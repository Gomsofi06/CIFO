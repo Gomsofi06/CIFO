{
 "cells": [
  {
   "cell_type": "code",
   "execution_count": 1,
   "id": "eb30fcb0",
   "metadata": {},
   "outputs": [],
   "source": [
    "import matplotlib.pyplot as plt\n",
    "import numpy as np\n",
    "import random\n",
    "import sys\n",
    "import os\n",
    "import pandas as pd\n",
    "import itertools\n",
    "\n",
    "# Adicionar diretório src ao path\n",
    "project_path = os.path.abspath(os.path.join(os.getcwd(), \"..\"))\n",
    "sys.path.append(project_path)\n",
    "\n",
    "from src.ga_runner import run_ga\n",
    "from src.individual import create_individual\n",
    "from src.fitness import evaluate_fitness\n",
    "from src.selection import roulette_selection, ranking_selection, tournament_selection\n",
    "from src.crossover import group_based_crossover, greedy_table_merge_crossover\n",
    "from src.mutation import swap_mutation, one_point_mutation, multiple_point_mutation\n",
    "from copy import deepcopy"
   ]
  },
  {
   "cell_type": "code",
   "execution_count": null,
   "id": "cf15b7ac",
   "metadata": {},
   "outputs": [
    {
     "name": "stdout",
     "output_type": "stream",
     "text": [
      "\n",
      "\n",
      "Running: tournament - group - swap - elitism=True\n",
      "Geração 0 | Best fitness: 19752.00\n",
      "Geração 10 | Best fitness: 19752.00\n",
      "Geração 20 | Best fitness: 20553.00\n",
      "Geração 30 | Best fitness: 22461.00\n",
      "Geração 40 | Best fitness: 23392.00\n",
      "Geração 50 | Best fitness: 23392.00\n",
      "Geração 60 | Best fitness: 23661.00\n",
      "Geração 70 | Best fitness: 25692.00\n",
      "Geração 80 | Best fitness: 27902.00\n",
      "Geração 90 | Best fitness: 27902.00\n",
      "\n",
      "\n",
      "Running: tournament - group - swap - elitism=False\n",
      "Geração 0 | Best fitness: 19752.00\n",
      "Geração 10 | Best fitness: 16400.00\n",
      "Geração 20 | Best fitness: 13800.00\n",
      "Geração 30 | Best fitness: 11500.00\n",
      "Geração 40 | Best fitness: 11500.00\n",
      "Geração 50 | Best fitness: 11500.00\n",
      "Geração 60 | Best fitness: 11500.00\n",
      "Geração 70 | Best fitness: 11500.00\n",
      "Geração 80 | Best fitness: 11500.00\n",
      "Geração 90 | Best fitness: 11500.00\n",
      "\n",
      "\n",
      "Running: tournament - group - one_point - elitism=True\n",
      "Geração 0 | Best fitness: 19752.00\n"
     ]
    }
   ],
   "source": [
    "selection_types = [\"tournament\", \"ranking\", \"roulette\"]\n",
    "crossover_types = [\"group\", \"merge\"]\n",
    "mutation_types = [\"swap\", \"one_point\", \"multiple_point\"]\n",
    "elitism_options = [True, False]\n",
    "\n",
    "results = []\n",
    "\n",
    "for sel, cross, mut, elit in itertools.product(selection_types, crossover_types, mutation_types, elitism_options):\n",
    "    print(\"\\n\")\n",
    "    print(f\"Running: {sel} - {cross} - {mut} - elitism={elit}\")\n",
    "    best_solution, best_score, best_fitness_per_gen = run_ga(\n",
    "        pop_size=100,\n",
    "        generations=100,\n",
    "        elite_size=2,\n",
    "        use_elitism=elit,\n",
    "        selection_type=sel,\n",
    "        crossover_type=cross,\n",
    "        mutation_type=mut,\n",
    "        mutation_prob=0.2,\n",
    "        seed=42\n",
    "    )\n",
    "    results.append({\n",
    "        \"selection\": sel,\n",
    "        \"crossover\": cross,\n",
    "        \"mutation\": mut,\n",
    "        \"elitism\": elit,\n",
    "        \"history\": best_fitness_per_gen,\n",
    "        \"final_score\": best_score\n",
    "    })\n"
   ]
  },
  {
   "cell_type": "code",
   "execution_count": null,
   "id": "27d2398a",
   "metadata": {},
   "outputs": [],
   "source": [
    "plt.figure(figsize=(14, 8))\n",
    "for r in results:\n",
    "    label = f\"{r['selection']}-{r['crossover']}-{r['mutation']} | elit={r['elitism']}\"\n",
    "    plt.plot(r[\"history\"], label=label)\n",
    "plt.xlabel(\"Geração\")\n",
    "plt.ylabel(\"Melhor Fitness\")\n",
    "plt.title(\"Evolução do Fitness por Geração\")\n",
    "plt.legend(bbox_to_anchor=(1.05, 1), loc=\"upper left\")\n",
    "plt.grid(True)\n",
    "plt.tight_layout()\n",
    "plt.show()\n"
   ]
  },
  {
   "cell_type": "code",
   "execution_count": null,
   "id": "a2163304",
   "metadata": {},
   "outputs": [],
   "source": [
    "summary = pd.DataFrame([{\n",
    "    \"Selection\": r[\"selection\"],\n",
    "    \"Crossover\": r[\"crossover\"],\n",
    "    \"Mutation\": r[\"mutation\"],\n",
    "    \"Elitism\": r[\"elitism\"],\n",
    "    \"Final Score\": r[\"final_score\"]\n",
    "} for r in results])\n",
    "\n",
    "summary = summary.sort_values(by=\"Final Score\", ascending=False)\n",
    "summary.reset_index(drop=True, inplace=True)\n",
    "summary\n"
   ]
  }
 ],
 "metadata": {
  "kernelspec": {
   "display_name": "Python 3",
   "language": "python",
   "name": "python3"
  },
  "language_info": {
   "codemirror_mode": {
    "name": "ipython",
    "version": 3
   },
   "file_extension": ".py",
   "mimetype": "text/x-python",
   "name": "python",
   "nbconvert_exporter": "python",
   "pygments_lexer": "ipython3",
   "version": "3.12.1"
  }
 },
 "nbformat": 4,
 "nbformat_minor": 5
}
